{
 "cells": [
  {
   "cell_type": "code",
   "execution_count": 1,
   "id": "b4c236cf",
   "metadata": {},
   "outputs": [],
   "source": [
    "#Import the necessary libraries.\n",
    "import pandas as pd\n",
    "import seaborn as sns\n",
    "import matplotlib.pyplot as plt\n",
    "import numpy as np"
   ]
  },
  {
   "cell_type": "code",
   "execution_count": 2,
   "id": "77146996",
   "metadata": {},
   "outputs": [
    {
     "data": {
      "text/plain": [
       "(9134, 24)"
      ]
     },
     "execution_count": 2,
     "metadata": {},
     "output_type": "execute_result"
    }
   ],
   "source": [
    "#load the data\n",
    "customer_df = pd.read_csv('we_fn_use_c_marketing_customer_value_analysis.csv')\n",
    "customer_df.head()\n",
    "customer_df.shape"
   ]
  },
  {
   "cell_type": "code",
   "execution_count": 3,
   "id": "05be6b8d",
   "metadata": {},
   "outputs": [
    {
     "data": {
      "text/html": [
       "<div>\n",
       "<style scoped>\n",
       "    .dataframe tbody tr th:only-of-type {\n",
       "        vertical-align: middle;\n",
       "    }\n",
       "\n",
       "    .dataframe tbody tr th {\n",
       "        vertical-align: top;\n",
       "    }\n",
       "\n",
       "    .dataframe thead th {\n",
       "        text-align: right;\n",
       "    }\n",
       "</style>\n",
       "<table border=\"1\" class=\"dataframe\">\n",
       "  <thead>\n",
       "    <tr style=\"text-align: right;\">\n",
       "      <th></th>\n",
       "      <th>Customer</th>\n",
       "      <th>State</th>\n",
       "      <th>Customer Lifetime Value</th>\n",
       "      <th>Response</th>\n",
       "      <th>Coverage</th>\n",
       "      <th>Education</th>\n",
       "      <th>Effective To Date</th>\n",
       "      <th>EmploymentStatus</th>\n",
       "      <th>Gender</th>\n",
       "      <th>Income</th>\n",
       "      <th>...</th>\n",
       "      <th>Months Since Policy Inception</th>\n",
       "      <th>Number of Open Complaints</th>\n",
       "      <th>Number of Policies</th>\n",
       "      <th>Policy Type</th>\n",
       "      <th>Policy</th>\n",
       "      <th>Renew Offer Type</th>\n",
       "      <th>Sales Channel</th>\n",
       "      <th>Total Claim Amount</th>\n",
       "      <th>Vehicle Class</th>\n",
       "      <th>Vehicle Size</th>\n",
       "    </tr>\n",
       "  </thead>\n",
       "  <tbody>\n",
       "    <tr>\n",
       "      <th>0</th>\n",
       "      <td>BU79786</td>\n",
       "      <td>Washington</td>\n",
       "      <td>2763.519279</td>\n",
       "      <td>No</td>\n",
       "      <td>Basic</td>\n",
       "      <td>Bachelor</td>\n",
       "      <td>2/24/11</td>\n",
       "      <td>Employed</td>\n",
       "      <td>F</td>\n",
       "      <td>56274</td>\n",
       "      <td>...</td>\n",
       "      <td>5</td>\n",
       "      <td>0</td>\n",
       "      <td>1</td>\n",
       "      <td>Corporate Auto</td>\n",
       "      <td>Corporate L3</td>\n",
       "      <td>Offer1</td>\n",
       "      <td>Agent</td>\n",
       "      <td>384.811147</td>\n",
       "      <td>Two-Door Car</td>\n",
       "      <td>Medsize</td>\n",
       "    </tr>\n",
       "    <tr>\n",
       "      <th>1</th>\n",
       "      <td>QZ44356</td>\n",
       "      <td>Arizona</td>\n",
       "      <td>6979.535903</td>\n",
       "      <td>No</td>\n",
       "      <td>Extended</td>\n",
       "      <td>Bachelor</td>\n",
       "      <td>1/31/11</td>\n",
       "      <td>Unemployed</td>\n",
       "      <td>F</td>\n",
       "      <td>0</td>\n",
       "      <td>...</td>\n",
       "      <td>42</td>\n",
       "      <td>0</td>\n",
       "      <td>8</td>\n",
       "      <td>Personal Auto</td>\n",
       "      <td>Personal L3</td>\n",
       "      <td>Offer3</td>\n",
       "      <td>Agent</td>\n",
       "      <td>1131.464935</td>\n",
       "      <td>Four-Door Car</td>\n",
       "      <td>Medsize</td>\n",
       "    </tr>\n",
       "    <tr>\n",
       "      <th>2</th>\n",
       "      <td>AI49188</td>\n",
       "      <td>Nevada</td>\n",
       "      <td>12887.431650</td>\n",
       "      <td>No</td>\n",
       "      <td>Premium</td>\n",
       "      <td>Bachelor</td>\n",
       "      <td>2/19/11</td>\n",
       "      <td>Employed</td>\n",
       "      <td>F</td>\n",
       "      <td>48767</td>\n",
       "      <td>...</td>\n",
       "      <td>38</td>\n",
       "      <td>0</td>\n",
       "      <td>2</td>\n",
       "      <td>Personal Auto</td>\n",
       "      <td>Personal L3</td>\n",
       "      <td>Offer1</td>\n",
       "      <td>Agent</td>\n",
       "      <td>566.472247</td>\n",
       "      <td>Two-Door Car</td>\n",
       "      <td>Medsize</td>\n",
       "    </tr>\n",
       "    <tr>\n",
       "      <th>3</th>\n",
       "      <td>WW63253</td>\n",
       "      <td>California</td>\n",
       "      <td>7645.861827</td>\n",
       "      <td>No</td>\n",
       "      <td>Basic</td>\n",
       "      <td>Bachelor</td>\n",
       "      <td>1/20/11</td>\n",
       "      <td>Unemployed</td>\n",
       "      <td>M</td>\n",
       "      <td>0</td>\n",
       "      <td>...</td>\n",
       "      <td>65</td>\n",
       "      <td>0</td>\n",
       "      <td>7</td>\n",
       "      <td>Corporate Auto</td>\n",
       "      <td>Corporate L2</td>\n",
       "      <td>Offer1</td>\n",
       "      <td>Call Center</td>\n",
       "      <td>529.881344</td>\n",
       "      <td>SUV</td>\n",
       "      <td>Medsize</td>\n",
       "    </tr>\n",
       "    <tr>\n",
       "      <th>4</th>\n",
       "      <td>HB64268</td>\n",
       "      <td>Washington</td>\n",
       "      <td>2813.692575</td>\n",
       "      <td>No</td>\n",
       "      <td>Basic</td>\n",
       "      <td>Bachelor</td>\n",
       "      <td>2/3/11</td>\n",
       "      <td>Employed</td>\n",
       "      <td>M</td>\n",
       "      <td>43836</td>\n",
       "      <td>...</td>\n",
       "      <td>44</td>\n",
       "      <td>0</td>\n",
       "      <td>1</td>\n",
       "      <td>Personal Auto</td>\n",
       "      <td>Personal L1</td>\n",
       "      <td>Offer1</td>\n",
       "      <td>Agent</td>\n",
       "      <td>138.130879</td>\n",
       "      <td>Four-Door Car</td>\n",
       "      <td>Medsize</td>\n",
       "    </tr>\n",
       "  </tbody>\n",
       "</table>\n",
       "<p>5 rows × 24 columns</p>\n",
       "</div>"
      ],
      "text/plain": [
       "  Customer       State  Customer Lifetime Value Response  Coverage Education  \\\n",
       "0  BU79786  Washington              2763.519279       No     Basic  Bachelor   \n",
       "1  QZ44356     Arizona              6979.535903       No  Extended  Bachelor   \n",
       "2  AI49188      Nevada             12887.431650       No   Premium  Bachelor   \n",
       "3  WW63253  California              7645.861827       No     Basic  Bachelor   \n",
       "4  HB64268  Washington              2813.692575       No     Basic  Bachelor   \n",
       "\n",
       "  Effective To Date EmploymentStatus Gender  Income  ...  \\\n",
       "0           2/24/11         Employed      F   56274  ...   \n",
       "1           1/31/11       Unemployed      F       0  ...   \n",
       "2           2/19/11         Employed      F   48767  ...   \n",
       "3           1/20/11       Unemployed      M       0  ...   \n",
       "4            2/3/11         Employed      M   43836  ...   \n",
       "\n",
       "  Months Since Policy Inception Number of Open Complaints  Number of Policies  \\\n",
       "0                             5                         0                   1   \n",
       "1                            42                         0                   8   \n",
       "2                            38                         0                   2   \n",
       "3                            65                         0                   7   \n",
       "4                            44                         0                   1   \n",
       "\n",
       "      Policy Type        Policy  Renew Offer Type  Sales Channel  \\\n",
       "0  Corporate Auto  Corporate L3            Offer1          Agent   \n",
       "1   Personal Auto   Personal L3            Offer3          Agent   \n",
       "2   Personal Auto   Personal L3            Offer1          Agent   \n",
       "3  Corporate Auto  Corporate L2            Offer1    Call Center   \n",
       "4   Personal Auto   Personal L1            Offer1          Agent   \n",
       "\n",
       "  Total Claim Amount  Vehicle Class Vehicle Size  \n",
       "0         384.811147   Two-Door Car      Medsize  \n",
       "1        1131.464935  Four-Door Car      Medsize  \n",
       "2         566.472247   Two-Door Car      Medsize  \n",
       "3         529.881344            SUV      Medsize  \n",
       "4         138.130879  Four-Door Car      Medsize  \n",
       "\n",
       "[5 rows x 24 columns]"
      ]
     },
     "execution_count": 3,
     "metadata": {},
     "output_type": "execute_result"
    }
   ],
   "source": [
    "customer_df.head()"
   ]
  },
  {
   "cell_type": "code",
   "execution_count": 4,
   "id": "db44592d",
   "metadata": {},
   "outputs": [
    {
     "data": {
      "text/html": [
       "<div>\n",
       "<style scoped>\n",
       "    .dataframe tbody tr th:only-of-type {\n",
       "        vertical-align: middle;\n",
       "    }\n",
       "\n",
       "    .dataframe tbody tr th {\n",
       "        vertical-align: top;\n",
       "    }\n",
       "\n",
       "    .dataframe thead th {\n",
       "        text-align: right;\n",
       "    }\n",
       "</style>\n",
       "<table border=\"1\" class=\"dataframe\">\n",
       "  <thead>\n",
       "    <tr style=\"text-align: right;\">\n",
       "      <th></th>\n",
       "      <th>customer</th>\n",
       "      <th>state</th>\n",
       "      <th>customer_lifetime_value</th>\n",
       "      <th>response</th>\n",
       "      <th>coverage</th>\n",
       "      <th>education</th>\n",
       "      <th>effective_to_date</th>\n",
       "      <th>employmentstatus</th>\n",
       "      <th>gender</th>\n",
       "      <th>income</th>\n",
       "      <th>...</th>\n",
       "      <th>months_since_policy_inception</th>\n",
       "      <th>number_of_open_complaints</th>\n",
       "      <th>number_of_policies</th>\n",
       "      <th>policy_type</th>\n",
       "      <th>policy</th>\n",
       "      <th>renew_offer_type</th>\n",
       "      <th>sales_channel</th>\n",
       "      <th>total_claim_amount</th>\n",
       "      <th>vehicle_class</th>\n",
       "      <th>vehicle_size</th>\n",
       "    </tr>\n",
       "  </thead>\n",
       "  <tbody>\n",
       "    <tr>\n",
       "      <th>0</th>\n",
       "      <td>BU79786</td>\n",
       "      <td>Washington</td>\n",
       "      <td>2763.519279</td>\n",
       "      <td>No</td>\n",
       "      <td>Basic</td>\n",
       "      <td>Bachelor</td>\n",
       "      <td>2011-02-24</td>\n",
       "      <td>Employed</td>\n",
       "      <td>F</td>\n",
       "      <td>56274</td>\n",
       "      <td>...</td>\n",
       "      <td>5</td>\n",
       "      <td>0</td>\n",
       "      <td>1</td>\n",
       "      <td>Corporate Auto</td>\n",
       "      <td>Corporate L3</td>\n",
       "      <td>Offer1</td>\n",
       "      <td>Agent</td>\n",
       "      <td>384.811147</td>\n",
       "      <td>Two-Door Car</td>\n",
       "      <td>Medsize</td>\n",
       "    </tr>\n",
       "    <tr>\n",
       "      <th>1</th>\n",
       "      <td>QZ44356</td>\n",
       "      <td>Arizona</td>\n",
       "      <td>6979.535903</td>\n",
       "      <td>No</td>\n",
       "      <td>Extended</td>\n",
       "      <td>Bachelor</td>\n",
       "      <td>2011-01-31</td>\n",
       "      <td>Unemployed</td>\n",
       "      <td>F</td>\n",
       "      <td>0</td>\n",
       "      <td>...</td>\n",
       "      <td>42</td>\n",
       "      <td>0</td>\n",
       "      <td>8</td>\n",
       "      <td>Personal Auto</td>\n",
       "      <td>Personal L3</td>\n",
       "      <td>Offer3</td>\n",
       "      <td>Agent</td>\n",
       "      <td>1131.464935</td>\n",
       "      <td>Four-Door Car</td>\n",
       "      <td>Medsize</td>\n",
       "    </tr>\n",
       "    <tr>\n",
       "      <th>2</th>\n",
       "      <td>AI49188</td>\n",
       "      <td>Nevada</td>\n",
       "      <td>12887.431650</td>\n",
       "      <td>No</td>\n",
       "      <td>Premium</td>\n",
       "      <td>Bachelor</td>\n",
       "      <td>2011-02-19</td>\n",
       "      <td>Employed</td>\n",
       "      <td>F</td>\n",
       "      <td>48767</td>\n",
       "      <td>...</td>\n",
       "      <td>38</td>\n",
       "      <td>0</td>\n",
       "      <td>2</td>\n",
       "      <td>Personal Auto</td>\n",
       "      <td>Personal L3</td>\n",
       "      <td>Offer1</td>\n",
       "      <td>Agent</td>\n",
       "      <td>566.472247</td>\n",
       "      <td>Two-Door Car</td>\n",
       "      <td>Medsize</td>\n",
       "    </tr>\n",
       "    <tr>\n",
       "      <th>3</th>\n",
       "      <td>WW63253</td>\n",
       "      <td>California</td>\n",
       "      <td>7645.861827</td>\n",
       "      <td>No</td>\n",
       "      <td>Basic</td>\n",
       "      <td>Bachelor</td>\n",
       "      <td>2011-01-20</td>\n",
       "      <td>Unemployed</td>\n",
       "      <td>M</td>\n",
       "      <td>0</td>\n",
       "      <td>...</td>\n",
       "      <td>65</td>\n",
       "      <td>0</td>\n",
       "      <td>7</td>\n",
       "      <td>Corporate Auto</td>\n",
       "      <td>Corporate L2</td>\n",
       "      <td>Offer1</td>\n",
       "      <td>Call Center</td>\n",
       "      <td>529.881344</td>\n",
       "      <td>SUV</td>\n",
       "      <td>Medsize</td>\n",
       "    </tr>\n",
       "    <tr>\n",
       "      <th>4</th>\n",
       "      <td>HB64268</td>\n",
       "      <td>Washington</td>\n",
       "      <td>2813.692575</td>\n",
       "      <td>No</td>\n",
       "      <td>Basic</td>\n",
       "      <td>Bachelor</td>\n",
       "      <td>2011-02-03</td>\n",
       "      <td>Employed</td>\n",
       "      <td>M</td>\n",
       "      <td>43836</td>\n",
       "      <td>...</td>\n",
       "      <td>44</td>\n",
       "      <td>0</td>\n",
       "      <td>1</td>\n",
       "      <td>Personal Auto</td>\n",
       "      <td>Personal L1</td>\n",
       "      <td>Offer1</td>\n",
       "      <td>Agent</td>\n",
       "      <td>138.130879</td>\n",
       "      <td>Four-Door Car</td>\n",
       "      <td>Medsize</td>\n",
       "    </tr>\n",
       "  </tbody>\n",
       "</table>\n",
       "<p>5 rows × 24 columns</p>\n",
       "</div>"
      ],
      "text/plain": [
       "  customer       state  customer_lifetime_value response  coverage education  \\\n",
       "0  BU79786  Washington              2763.519279       No     Basic  Bachelor   \n",
       "1  QZ44356     Arizona              6979.535903       No  Extended  Bachelor   \n",
       "2  AI49188      Nevada             12887.431650       No   Premium  Bachelor   \n",
       "3  WW63253  California              7645.861827       No     Basic  Bachelor   \n",
       "4  HB64268  Washington              2813.692575       No     Basic  Bachelor   \n",
       "\n",
       "  effective_to_date employmentstatus gender  income  ...  \\\n",
       "0        2011-02-24         Employed      F   56274  ...   \n",
       "1        2011-01-31       Unemployed      F       0  ...   \n",
       "2        2011-02-19         Employed      F   48767  ...   \n",
       "3        2011-01-20       Unemployed      M       0  ...   \n",
       "4        2011-02-03         Employed      M   43836  ...   \n",
       "\n",
       "  months_since_policy_inception number_of_open_complaints  number_of_policies  \\\n",
       "0                             5                         0                   1   \n",
       "1                            42                         0                   8   \n",
       "2                            38                         0                   2   \n",
       "3                            65                         0                   7   \n",
       "4                            44                         0                   1   \n",
       "\n",
       "      policy_type        policy  renew_offer_type  sales_channel  \\\n",
       "0  Corporate Auto  Corporate L3            Offer1          Agent   \n",
       "1   Personal Auto   Personal L3            Offer3          Agent   \n",
       "2   Personal Auto   Personal L3            Offer1          Agent   \n",
       "3  Corporate Auto  Corporate L2            Offer1    Call Center   \n",
       "4   Personal Auto   Personal L1            Offer1          Agent   \n",
       "\n",
       "  total_claim_amount  vehicle_class vehicle_size  \n",
       "0         384.811147   Two-Door Car      Medsize  \n",
       "1        1131.464935  Four-Door Car      Medsize  \n",
       "2         566.472247   Two-Door Car      Medsize  \n",
       "3         529.881344            SUV      Medsize  \n",
       "4         138.130879  Four-Door Car      Medsize  \n",
       "\n",
       "[5 rows x 24 columns]"
      ]
     },
     "execution_count": 4,
     "metadata": {},
     "output_type": "execute_result"
    }
   ],
   "source": [
    "#cleaning steps from the previous labs\n",
    "def snake_case(df):\n",
    "    cols = []\n",
    "    for c in df.columns:\n",
    "        cols.append(c.lower())\n",
    "    df.columns = cols\n",
    "    cols_ = df.columns.str.replace(' ', '_')\n",
    "    df.columns = cols_\n",
    "    return df\n",
    "\n",
    "customer_df = snake_case(customer_df)\n",
    "customer_df['effective_to_date'] = pd.to_datetime(customer_df['effective_to_date'],errors='coerce')\n",
    "customer_df.head()"
   ]
  },
  {
   "cell_type": "code",
   "execution_count": 5,
   "id": "b8b874b6",
   "metadata": {},
   "outputs": [
    {
     "name": "stderr",
     "output_type": "stream",
     "text": [
      "/var/folders/ds/zk5fgzhx7b53nll390cs5phh0000gn/T/ipykernel_14463/3952055302.py:3: DeprecationWarning: `np.object` is a deprecated alias for the builtin `object`. To silence this warning, use `object` by itself. Doing this will not modify any behavior and is safe. \n",
      "Deprecated in NumPy 1.20; for more details and guidance: https://numpy.org/devdocs/release/1.20.0-notes.html#deprecations\n",
      "  cat = df.select_dtypes(include=np.object)\n"
     ]
    }
   ],
   "source": [
    "#differentiate continuous and discrete columns\n",
    "def discr_cont(df):\n",
    "    cat = df.select_dtypes(include=np.object)\n",
    "    continuous = []\n",
    "    discrete = []\n",
    "    \n",
    "    for c in df.select_dtypes(include=np.number):\n",
    "        if len(df[c].unique()) < 10:\n",
    "            discrete.append(c)\n",
    "        else:\n",
    "            continuous.append(c)\n",
    "    return cat, continuous, discrete\n",
    "\n",
    "cat, continuous, discrete = discr_cont(customer_df)\n"
   ]
  },
  {
   "cell_type": "code",
   "execution_count": 6,
   "id": "a65679e9",
   "metadata": {},
   "outputs": [
    {
     "data": {
      "text/html": [
       "<div>\n",
       "<style scoped>\n",
       "    .dataframe tbody tr th:only-of-type {\n",
       "        vertical-align: middle;\n",
       "    }\n",
       "\n",
       "    .dataframe tbody tr th {\n",
       "        vertical-align: top;\n",
       "    }\n",
       "\n",
       "    .dataframe thead th {\n",
       "        text-align: right;\n",
       "    }\n",
       "</style>\n",
       "<table border=\"1\" class=\"dataframe\">\n",
       "  <thead>\n",
       "    <tr style=\"text-align: right;\">\n",
       "      <th></th>\n",
       "      <th>customer_lifetime_value</th>\n",
       "      <th>income</th>\n",
       "      <th>monthly_premium_auto</th>\n",
       "      <th>months_since_last_claim</th>\n",
       "      <th>months_since_policy_inception</th>\n",
       "      <th>total_claim_amount</th>\n",
       "    </tr>\n",
       "  </thead>\n",
       "  <tbody>\n",
       "    <tr>\n",
       "      <th>0</th>\n",
       "      <td>2763.519279</td>\n",
       "      <td>56274</td>\n",
       "      <td>69</td>\n",
       "      <td>32</td>\n",
       "      <td>5</td>\n",
       "      <td>384.811147</td>\n",
       "    </tr>\n",
       "    <tr>\n",
       "      <th>1</th>\n",
       "      <td>6979.535903</td>\n",
       "      <td>0</td>\n",
       "      <td>94</td>\n",
       "      <td>13</td>\n",
       "      <td>42</td>\n",
       "      <td>1131.464935</td>\n",
       "    </tr>\n",
       "    <tr>\n",
       "      <th>2</th>\n",
       "      <td>12887.431650</td>\n",
       "      <td>48767</td>\n",
       "      <td>108</td>\n",
       "      <td>18</td>\n",
       "      <td>38</td>\n",
       "      <td>566.472247</td>\n",
       "    </tr>\n",
       "    <tr>\n",
       "      <th>3</th>\n",
       "      <td>7645.861827</td>\n",
       "      <td>0</td>\n",
       "      <td>106</td>\n",
       "      <td>18</td>\n",
       "      <td>65</td>\n",
       "      <td>529.881344</td>\n",
       "    </tr>\n",
       "    <tr>\n",
       "      <th>4</th>\n",
       "      <td>2813.692575</td>\n",
       "      <td>43836</td>\n",
       "      <td>73</td>\n",
       "      <td>12</td>\n",
       "      <td>44</td>\n",
       "      <td>138.130879</td>\n",
       "    </tr>\n",
       "  </tbody>\n",
       "</table>\n",
       "</div>"
      ],
      "text/plain": [
       "   customer_lifetime_value  income  monthly_premium_auto  \\\n",
       "0              2763.519279   56274                    69   \n",
       "1              6979.535903       0                    94   \n",
       "2             12887.431650   48767                   108   \n",
       "3              7645.861827       0                   106   \n",
       "4              2813.692575   43836                    73   \n",
       "\n",
       "   months_since_last_claim  months_since_policy_inception  total_claim_amount  \n",
       "0                       32                              5          384.811147  \n",
       "1                       13                             42         1131.464935  \n",
       "2                       18                             38          566.472247  \n",
       "3                       18                             65          529.881344  \n",
       "4                       12                             44          138.130879  "
      ]
     },
     "execution_count": 6,
     "metadata": {},
     "output_type": "execute_result"
    }
   ],
   "source": [
    "# Load the continuous and discrete variables into continuous_df and discrete_df variables\n",
    "continuous_df = pd.DataFrame(data=customer_df,columns=continuous)\n",
    "discrete_df = pd.DataFrame(data=customer_df,columns=discrete)\n",
    "continuous_df.head()"
   ]
  },
  {
   "cell_type": "code",
   "execution_count": 7,
   "id": "a39d548c",
   "metadata": {},
   "outputs": [
    {
     "data": {
      "text/plain": [
       "<AxesSubplot:>"
      ]
     },
     "execution_count": 7,
     "metadata": {},
     "output_type": "execute_result"
    },
    {
     "data": {
      "image/png": "[encoded data removed]",
      "text/plain": [
       "<Figure size 432x288 with 2 Axes>"
      ]
     },
     "metadata": {
      "needs_background": "light"
     },
     "output_type": "display_data"
    }
   ],
   "source": [
    "#Correlation matrix continious data\n",
    "correl_matrix_cont = continuous_df.corr()\n",
    "sns.heatmap(correl_matrix_cont,annot=True)\n",
    "\n",
    "# this correlation matrix shows us that monthly premium auto and total claim amount correlate pretty highly with each other\n",
    "# this makes sense as people who pay a higher premium are more likely to expect more damage, hence they pay more to be covered and thus claim more as well\n",
    "# Monthly premium auto correlates moderately with customer lifetime value, indicating the more premium the customer pays the more their lifetime value\n",
    "# this makes sense as these customers pay more than other customers\n",
    "# Income correlates moderately negatively with total claim amount, indicating that the higher the income the lower the total claim amount. \n",
    "# this is also plausable as richer customers have less worry of money so may not always want to go through the trouble to claim something"
   ]
  },
  {
   "cell_type": "code",
   "execution_count": 8,
   "id": "80b88746",
   "metadata": {},
   "outputs": [
    {
     "data": {
      "text/plain": [
       "<AxesSubplot:>"
      ]
     },
     "execution_count": 8,
     "metadata": {},
     "output_type": "execute_result"
    },
    {
     "data": {
      "image/png": "[encoded data removed]",
      "text/plain": [
       "<Figure size 432x288 with 2 Axes>"
      ]
     },
     "metadata": {
      "needs_background": "light"
     },
     "output_type": "display_data"
    }
   ],
   "source": [
    "#Correlation matrix discrete data\n",
    "correl_matrix_disc = discrete_df.corr()\n",
    "sns.heatmap(correl_matrix_disc,annot=True)\n",
    "# there is no correlation between number of open complaints and number of policies"
   ]
  },
  {
   "cell_type": "code",
   "execution_count": 9,
   "id": "8366feaf",
   "metadata": {},
   "outputs": [
    {
     "data": {
      "image/png": "[encoded data removed]",
      "text/plain": [
       "<Figure size 360x360 with 1 Axes>"
      ]
     },
     "metadata": {
      "needs_background": "light"
     },
     "output_type": "display_data"
    },
    {
     "data": {
      "image/png": "[encoded data removed]",
      "text/plain": [
       "<Figure size 360x360 with 1 Axes>"
      ]
     },
     "metadata": {
      "needs_background": "light"
     },
     "output_type": "display_data"
    },
    {
     "data": {
      "image/png": "[encoded data removed]",
      "text/plain": [
       "<Figure size 360x360 with 1 Axes>"
      ]
     },
     "metadata": {
      "needs_background": "light"
     },
     "output_type": "display_data"
    },
    {
     "data": {
      "image/png": "[encoded data removed]",
      "text/plain": [
       "<Figure size 360x360 with 1 Axes>"
      ]
     },
     "metadata": {
      "needs_background": "light"
     },
     "output_type": "display_data"
    },
    {
     "data": {
      "image/png": "[encoded data removed]",
      "text/plain": [
       "<Figure size 360x360 with 1 Axes>"
      ]
     },
     "metadata": {
      "needs_background": "light"
     },
     "output_type": "display_data"
    },
    {
     "data": {
      "image/png": "[encoded data removed]",
      "text/plain": [
       "<Figure size 360x360 with 1 Axes>"
      ]
     },
     "metadata": {
      "needs_background": "light"
     },
     "output_type": "display_data"
    }
   ],
   "source": [
    "#Create a function to plot every continuous variables\n",
    "# these plots show to some variables are distribute pretty equally\n",
    "# however, some are also very heavily skewed. \n",
    "#Customer Lifetime value is very heavily skewed to the right, same for monthly premium auto and total claim amount\n",
    "# these variables probably have some outliers\n",
    "\n",
    "def displot_cont(df):\n",
    "    for c in df:\n",
    "        sns.displot(x=c, data=df)\n",
    "        plt.show()\n",
    "    return None\n",
    "\n",
    "displot_cont(continuous_df)"
   ]
  },
  {
   "cell_type": "code",
   "execution_count": 10,
   "id": "03e5bcf4",
   "metadata": {},
   "outputs": [
    {
     "data": {
      "image/png": "[encoded data removed]",
      "text/plain": [
       "<Figure size 432x288 with 1 Axes>"
      ]
     },
     "metadata": {
      "needs_background": "light"
     },
     "output_type": "display_data"
    },
    {
     "data": {
      "image/png": "[encoded data removed]",
      "text/plain": [
       "<Figure size 432x288 with 1 Axes>"
      ]
     },
     "metadata": {
      "needs_background": "light"
     },
     "output_type": "display_data"
    }
   ],
   "source": [
    "#Create a function to plot every discrete variables\n",
    "# As these plots show, most customer have 0 complaints open, this could indicate this company is quick at handling open complaint, or they just don't get many (which I don't hope)\n",
    "# also most customers mostly have 1, 2 or 3 policies. -> I see some possibilities for upselling here. \n",
    "\n",
    "def countplot_disc(df):\n",
    "    for c in df:\n",
    "        sns.countplot(x=c, data=df)\n",
    "        plt.show()\n",
    "    return None\n",
    "\n",
    "countplot_disc(discrete_df)"
   ]
  },
  {
   "cell_type": "code",
   "execution_count": 11,
   "id": "ed38077d",
   "metadata": {},
   "outputs": [
    {
     "data": {
      "image/png": "[encoded data removed]",
      "text/plain": [
       "<Figure size 432x288 with 1 Axes>"
      ]
     },
     "metadata": {
      "needs_background": "light"
     },
     "output_type": "display_data"
    },
    {
     "data": {
      "image/png": "[encoded data removed]",
      "text/plain": [
       "<Figure size 432x288 with 1 Axes>"
      ]
     },
     "metadata": {
      "needs_background": "light"
     },
     "output_type": "display_data"
    },
    {
     "data": {
      "image/png": "[encoded data removed]",
      "text/plain": [
       "<Figure size 432x288 with 1 Axes>"
      ]
     },
     "metadata": {
      "needs_background": "light"
     },
     "output_type": "display_data"
    },
    {
     "data": {
      "image/png": "[encoded data removed]",
      "text/plain": [
       "<Figure size 432x288 with 1 Axes>"
      ]
     },
     "metadata": {
      "needs_background": "light"
     },
     "output_type": "display_data"
    },
    {
     "data": {
      "image/png": "[encoded data removed]",
      "text/plain": [
       "<Figure size 432x288 with 1 Axes>"
      ]
     },
     "metadata": {
      "needs_background": "light"
     },
     "output_type": "display_data"
    },
    {
     "data": {
      "image/png": "[encoded data removed]",
      "text/plain": [
       "<Figure size 432x288 with 1 Axes>"
      ]
     },
     "metadata": {
      "needs_background": "light"
     },
     "output_type": "display_data"
    }
   ],
   "source": [
    "#Look for outliers in the continuous variables \n",
    "def box_cont(df):\n",
    "    for c in df:\n",
    "        sns.boxplot(x=c, data=df)\n",
    "        plt.show()\n",
    "    return None\n",
    "\n",
    "box_cont(continuous_df)"
   ]
  },
  {
   "cell_type": "code",
   "execution_count": 12,
   "id": "30f527af",
   "metadata": {},
   "outputs": [],
   "source": [
    "# Customer Lifetime Value, Monthly Premium Auto and Total Claim Amount all contain outliers\n",
    "\n",
    "#checking how many rows are deleted if we remove outliers for Customer Lifetime Value\n",
    "iqr = np.percentile(continuous_df['customer_lifetime_value'],75) - np.percentile(continuous_df['customer_lifetime_value'],25)\n",
    "upper_limit = np.percentile(continuous_df['customer_lifetime_value'],75) + 1.5 * iqr\n",
    "outliers = continuous_df[continuous_df['customer_lifetime_value'] > upper_limit]\n",
    "len(outliers)\n",
    "\n",
    "# because 840 is quite a lot of data to delete on a dataset with a total of 9134 rows, we are going to log transform the colunms\n",
    "def log_transform(x):\n",
    "    if np.isfinite(x) and x!=0:\n",
    "        return np.log(x)\n",
    "    else:\n",
    "        return np.NAN\n",
    "\n",
    "for column in continuous_df:\n",
    "    if column != 'total_claim_amount':\n",
    "        continuous_df[column] = continuous_df[column].apply(log_transform)"
   ]
  },
  {
   "cell_type": "code",
   "execution_count": 13,
   "id": "0eb7364f",
   "metadata": {},
   "outputs": [
    {
     "data": {
      "image/png": "[encoded data removed]",
      "text/plain": [
       "<Figure size 360x360 with 1 Axes>"
      ]
     },
     "metadata": {
      "needs_background": "light"
     },
     "output_type": "display_data"
    },
    {
     "data": {
      "image/png": "[encoded data removed]",
      "text/plain": [
       "<Figure size 360x360 with 1 Axes>"
      ]
     },
     "metadata": {
      "needs_background": "light"
     },
     "output_type": "display_data"
    },
    {
     "data": {
      "image/png": "[encoded data removed]",
      "text/plain": [
       "<Figure size 360x360 with 1 Axes>"
      ]
     },
     "metadata": {
      "needs_background": "light"
     },
     "output_type": "display_data"
    },
    {
     "data": {
      "image/png": "[encoded data removed]",
      "text/plain": [
       "<Figure size 360x360 with 1 Axes>"
      ]
     },
     "metadata": {
      "needs_background": "light"
     },
     "output_type": "display_data"
    },
    {
     "data": {
      "image/png": "[encoded data removed]",
      "text/plain": [
       "<Figure size 360x360 with 1 Axes>"
      ]
     },
     "metadata": {
      "needs_background": "light"
     },
     "output_type": "display_data"
    },
    {
     "data": {
      "image/png": "[encoded data removed]",
      "text/plain": [
       "<Figure size 360x360 with 1 Axes>"
      ]
     },
     "metadata": {
      "needs_background": "light"
     },
     "output_type": "display_data"
    }
   ],
   "source": [
    "def displot_cont(df):\n",
    "    for c in df:\n",
    "        sns.displot(x=c, data=df)\n",
    "        plt.show()\n",
    "    return None\n",
    "\n",
    "displot_cont(continuous_df)"
   ]
  },
  {
   "cell_type": "code",
   "execution_count": 14,
   "id": "7e9f5d23",
   "metadata": {},
   "outputs": [
    {
     "data": {
      "text/plain": [
       "128"
      ]
     },
     "execution_count": 14,
     "metadata": {},
     "output_type": "execute_result"
    }
   ],
   "source": [
    "#transforming the log for Total Claim Amount\n",
    "iqr = np.percentile(continuous_df['total_claim_amount'],75) - np.percentile(continuous_df['customer_lifetime_value'],25)\n",
    "upper_limit = np.percentile(continuous_df['total_claim_amount'],75) + 1.5 * iqr\n",
    "outliers = continuous_df[continuous_df['total_claim_amount'] > upper_limit]\n",
    "len(outliers)\n",
    "\n",
    "# there is a lot of outliers in total claim amount indicating these numbers are spread out very widely\n",
    "#therefore a log transformation will still show some skewness\n"
   ]
  },
  {
   "cell_type": "code",
   "execution_count": 15,
   "id": "5eb5585a",
   "metadata": {},
   "outputs": [
    {
     "data": {
      "text/plain": [
       "customer_lifetime_value             0\n",
       "income                           2317\n",
       "monthly_premium_auto                0\n",
       "months_since_last_claim           314\n",
       "months_since_policy_inception      83\n",
       "total_claim_amount                  0\n",
       "dtype: int64"
      ]
     },
     "execution_count": 15,
     "metadata": {},
     "output_type": "execute_result"
    }
   ],
   "source": [
    "#Checking for NaN values\n",
    "continuous_df.isna().sum()"
   ]
  },
  {
   "cell_type": "code",
   "execution_count": 16,
   "id": "498204eb",
   "metadata": {},
   "outputs": [],
   "source": [
    "for c in continuous_df:\n",
    "        if continuous_df[c].isna().sum() > 0:\n",
    "            continuous_df[c] = continuous_df[c].fillna(np.mean(continuous_df[c]))"
   ]
  },
  {
   "cell_type": "code",
   "execution_count": 17,
   "id": "0aae4338",
   "metadata": {},
   "outputs": [
    {
     "data": {
      "text/plain": [
       "customer_lifetime_value          0\n",
       "income                           0\n",
       "monthly_premium_auto             0\n",
       "months_since_last_claim          0\n",
       "months_since_policy_inception    0\n",
       "total_claim_amount               0\n",
       "dtype: int64"
      ]
     },
     "execution_count": 17,
     "metadata": {},
     "output_type": "execute_result"
    }
   ],
   "source": [
    "continuous_df.isna().sum()"
   ]
  },
  {
   "cell_type": "code",
   "execution_count": 18,
   "id": "f90b6ab5",
   "metadata": {},
   "outputs": [
    {
     "name": "stderr",
     "output_type": "stream",
     "text": [
      "/var/folders/ds/zk5fgzhx7b53nll390cs5phh0000gn/T/ipykernel_14463/2708235092.py:11: SettingWithCopyWarning: \n",
      "A value is trying to be set on a copy of a slice from a DataFrame.\n",
      "Try using .loc[row_indexer,col_indexer] = value instead\n",
      "\n",
      "See the caveats in the documentation: https://pandas.pydata.org/pandas-docs/stable/user_guide/indexing.html#returning-a-view-versus-a-copy\n",
      "  cat['state'] = cat['state'].apply(cleanstate)\n"
     ]
    }
   ],
   "source": [
    "# cleaning the redundant values and columns in the categorical values \n",
    "# in state most two states had very little counts so I grouped them as other\n",
    "def cleanstate(x):\n",
    "    if x == 'Nevada':\n",
    "        return 'Other'\n",
    "    elif x == 'Washington':\n",
    "        return 'Other'\n",
    "    else:\n",
    "        return x\n",
    "\n",
    "cat['state'] = cat['state'].apply(cleanstate)"
   ]
  },
  {
   "cell_type": "code",
   "execution_count": 19,
   "id": "18973b48",
   "metadata": {},
   "outputs": [
    {
     "name": "stderr",
     "output_type": "stream",
     "text": [
      "/var/folders/ds/zk5fgzhx7b53nll390cs5phh0000gn/T/ipykernel_14463/3923716543.py:10: SettingWithCopyWarning: \n",
      "A value is trying to be set on a copy of a slice from a DataFrame.\n",
      "Try using .loc[row_indexer,col_indexer] = value instead\n",
      "\n",
      "See the caveats in the documentation: https://pandas.pydata.org/pandas-docs/stable/user_guide/indexing.html#returning-a-view-versus-a-copy\n",
      "  cat['education'] = cat['education'].apply(cleaneducation)\n"
     ]
    }
   ],
   "source": [
    "# also eduction has Master and Doctor which have very low count, so grouping them as well\n",
    "def cleaneducation(x):\n",
    "    if x == 'Master':\n",
    "        return 'Other'\n",
    "    elif x == 'Doctor':\n",
    "        return 'Other'\n",
    "    else:\n",
    "        return x\n",
    "\n",
    "cat['education'] = cat['education'].apply(cleaneducation)"
   ]
  },
  {
   "cell_type": "code",
   "execution_count": 20,
   "id": "f647c35d",
   "metadata": {},
   "outputs": [
    {
     "name": "stderr",
     "output_type": "stream",
     "text": [
      "/var/folders/ds/zk5fgzhx7b53nll390cs5phh0000gn/T/ipykernel_14463/2128196564.py:12: SettingWithCopyWarning: \n",
      "A value is trying to be set on a copy of a slice from a DataFrame.\n",
      "Try using .loc[row_indexer,col_indexer] = value instead\n",
      "\n",
      "See the caveats in the documentation: https://pandas.pydata.org/pandas-docs/stable/user_guide/indexing.html#returning-a-view-versus-a-copy\n",
      "  cat['employmentstatus'] = cat['employmentstatus'].apply(cleanemployment)\n"
     ]
    }
   ],
   "source": [
    "# same for employmentstatus\n",
    "def cleanemployment(x):\n",
    "    if x == 'Medical Leave':\n",
    "        return 'Other'\n",
    "    elif x == 'Disabled':\n",
    "        return 'Other'\n",
    "    elif x == 'Retired':\n",
    "        return 'Other'\n",
    "    else:\n",
    "        return x\n",
    "\n",
    "cat['employmentstatus'] = cat['employmentstatus'].apply(cleanemployment)"
   ]
  },
  {
   "cell_type": "code",
   "execution_count": 21,
   "id": "e4d1c4b6",
   "metadata": {},
   "outputs": [
    {
     "name": "stderr",
     "output_type": "stream",
     "text": [
      "/var/folders/ds/zk5fgzhx7b53nll390cs5phh0000gn/T/ipykernel_14463/1677784809.py:10: SettingWithCopyWarning: \n",
      "A value is trying to be set on a copy of a slice from a DataFrame.\n",
      "Try using .loc[row_indexer,col_indexer] = value instead\n",
      "\n",
      "See the caveats in the documentation: https://pandas.pydata.org/pandas-docs/stable/user_guide/indexing.html#returning-a-view-versus-a-copy\n",
      "  cat['policy'] = cat['policy'].apply(cleanpolicy)\n"
     ]
    }
   ],
   "source": [
    "#the column policy, has values like Corporate L1,L2,L3 I am going to change that to 1 name: Corporate\n",
    "def cleanpolicy(x):\n",
    "    if 'Corporate' in x:\n",
    "        return 'Corporate'\n",
    "    elif 'Personal' in x:\n",
    "        return 'Personal'\n",
    "    elif 'Special' in x:\n",
    "        return 'Special'\n",
    "    \n",
    "cat['policy'] = cat['policy'].apply(cleanpolicy)"
   ]
  },
  {
   "cell_type": "code",
   "execution_count": 22,
   "id": "93baf0e6",
   "metadata": {},
   "outputs": [
    {
     "name": "stderr",
     "output_type": "stream",
     "text": [
      "/var/folders/ds/zk5fgzhx7b53nll390cs5phh0000gn/T/ipykernel_14463/2081348589.py:12: SettingWithCopyWarning: \n",
      "A value is trying to be set on a copy of a slice from a DataFrame.\n",
      "Try using .loc[row_indexer,col_indexer] = value instead\n",
      "\n",
      "See the caveats in the documentation: https://pandas.pydata.org/pandas-docs/stable/user_guide/indexing.html#returning-a-view-versus-a-copy\n",
      "  cat['vehicle_class'] = cat['vehicle_class'].apply(cleanvehicleclass)\n"
     ]
    }
   ],
   "source": [
    "#cleaning vehicle class because there are a few values with very low counts\n",
    "def cleanvehicleclass(x):\n",
    "    if x == 'Sports Car':\n",
    "        return 'Other'\n",
    "    elif x == 'Luxury SUV':\n",
    "        return 'Other'\n",
    "    elif x == 'Luxury Car':\n",
    "        return 'Other'\n",
    "    else:\n",
    "        return x\n",
    "    \n",
    "cat['vehicle_class'] = cat['vehicle_class'].apply(cleanvehicleclass)"
   ]
  },
  {
   "cell_type": "code",
   "execution_count": 23,
   "id": "185bfe96",
   "metadata": {},
   "outputs": [],
   "source": [
    "# policy and policy_type are exactly the same, so I am going to drop policy_type\n",
    "#cat = cat.drop(['policy_type'],axis=1)"
   ]
  },
  {
   "cell_type": "code",
   "execution_count": 24,
   "id": "ce5abc71",
   "metadata": {},
   "outputs": [
    {
     "data": {
      "text/html": [
       "<div>\n",
       "<style scoped>\n",
       "    .dataframe tbody tr th:only-of-type {\n",
       "        vertical-align: middle;\n",
       "    }\n",
       "\n",
       "    .dataframe tbody tr th {\n",
       "        vertical-align: top;\n",
       "    }\n",
       "\n",
       "    .dataframe thead th {\n",
       "        text-align: right;\n",
       "    }\n",
       "</style>\n",
       "<table border=\"1\" class=\"dataframe\">\n",
       "  <thead>\n",
       "    <tr style=\"text-align: right;\">\n",
       "      <th></th>\n",
       "      <th>customer</th>\n",
       "      <th>state</th>\n",
       "      <th>response</th>\n",
       "      <th>coverage</th>\n",
       "      <th>education</th>\n",
       "      <th>employmentstatus</th>\n",
       "      <th>gender</th>\n",
       "      <th>location_code</th>\n",
       "      <th>marital_status</th>\n",
       "      <th>policy_type</th>\n",
       "      <th>policy</th>\n",
       "      <th>renew_offer_type</th>\n",
       "      <th>sales_channel</th>\n",
       "      <th>vehicle_class</th>\n",
       "      <th>vehicle_size</th>\n",
       "      <th>number_of_open_complaints</th>\n",
       "      <th>number_of_policies</th>\n",
       "    </tr>\n",
       "  </thead>\n",
       "  <tbody>\n",
       "    <tr>\n",
       "      <th>0</th>\n",
       "      <td>BU79786</td>\n",
       "      <td>Other</td>\n",
       "      <td>No</td>\n",
       "      <td>Basic</td>\n",
       "      <td>Bachelor</td>\n",
       "      <td>Employed</td>\n",
       "      <td>F</td>\n",
       "      <td>Suburban</td>\n",
       "      <td>Married</td>\n",
       "      <td>Corporate Auto</td>\n",
       "      <td>Corporate</td>\n",
       "      <td>Offer1</td>\n",
       "      <td>Agent</td>\n",
       "      <td>Two-Door Car</td>\n",
       "      <td>Medsize</td>\n",
       "      <td>0</td>\n",
       "      <td>1</td>\n",
       "    </tr>\n",
       "    <tr>\n",
       "      <th>1</th>\n",
       "      <td>QZ44356</td>\n",
       "      <td>Arizona</td>\n",
       "      <td>No</td>\n",
       "      <td>Extended</td>\n",
       "      <td>Bachelor</td>\n",
       "      <td>Unemployed</td>\n",
       "      <td>F</td>\n",
       "      <td>Suburban</td>\n",
       "      <td>Single</td>\n",
       "      <td>Personal Auto</td>\n",
       "      <td>Personal</td>\n",
       "      <td>Offer3</td>\n",
       "      <td>Agent</td>\n",
       "      <td>Four-Door Car</td>\n",
       "      <td>Medsize</td>\n",
       "      <td>0</td>\n",
       "      <td>8</td>\n",
       "    </tr>\n",
       "    <tr>\n",
       "      <th>2</th>\n",
       "      <td>AI49188</td>\n",
       "      <td>Other</td>\n",
       "      <td>No</td>\n",
       "      <td>Premium</td>\n",
       "      <td>Bachelor</td>\n",
       "      <td>Employed</td>\n",
       "      <td>F</td>\n",
       "      <td>Suburban</td>\n",
       "      <td>Married</td>\n",
       "      <td>Personal Auto</td>\n",
       "      <td>Personal</td>\n",
       "      <td>Offer1</td>\n",
       "      <td>Agent</td>\n",
       "      <td>Two-Door Car</td>\n",
       "      <td>Medsize</td>\n",
       "      <td>0</td>\n",
       "      <td>2</td>\n",
       "    </tr>\n",
       "    <tr>\n",
       "      <th>3</th>\n",
       "      <td>WW63253</td>\n",
       "      <td>California</td>\n",
       "      <td>No</td>\n",
       "      <td>Basic</td>\n",
       "      <td>Bachelor</td>\n",
       "      <td>Unemployed</td>\n",
       "      <td>M</td>\n",
       "      <td>Suburban</td>\n",
       "      <td>Married</td>\n",
       "      <td>Corporate Auto</td>\n",
       "      <td>Corporate</td>\n",
       "      <td>Offer1</td>\n",
       "      <td>Call Center</td>\n",
       "      <td>SUV</td>\n",
       "      <td>Medsize</td>\n",
       "      <td>0</td>\n",
       "      <td>7</td>\n",
       "    </tr>\n",
       "    <tr>\n",
       "      <th>4</th>\n",
       "      <td>HB64268</td>\n",
       "      <td>Other</td>\n",
       "      <td>No</td>\n",
       "      <td>Basic</td>\n",
       "      <td>Bachelor</td>\n",
       "      <td>Employed</td>\n",
       "      <td>M</td>\n",
       "      <td>Rural</td>\n",
       "      <td>Single</td>\n",
       "      <td>Personal Auto</td>\n",
       "      <td>Personal</td>\n",
       "      <td>Offer1</td>\n",
       "      <td>Agent</td>\n",
       "      <td>Four-Door Car</td>\n",
       "      <td>Medsize</td>\n",
       "      <td>0</td>\n",
       "      <td>1</td>\n",
       "    </tr>\n",
       "  </tbody>\n",
       "</table>\n",
       "</div>"
      ],
      "text/plain": [
       "  customer       state response  coverage education employmentstatus gender  \\\n",
       "0  BU79786       Other       No     Basic  Bachelor         Employed      F   \n",
       "1  QZ44356     Arizona       No  Extended  Bachelor       Unemployed      F   \n",
       "2  AI49188       Other       No   Premium  Bachelor         Employed      F   \n",
       "3  WW63253  California       No     Basic  Bachelor       Unemployed      M   \n",
       "4  HB64268       Other       No     Basic  Bachelor         Employed      M   \n",
       "\n",
       "  location_code marital_status     policy_type     policy renew_offer_type  \\\n",
       "0      Suburban        Married  Corporate Auto  Corporate           Offer1   \n",
       "1      Suburban         Single   Personal Auto   Personal           Offer3   \n",
       "2      Suburban        Married   Personal Auto   Personal           Offer1   \n",
       "3      Suburban        Married  Corporate Auto  Corporate           Offer1   \n",
       "4         Rural         Single   Personal Auto   Personal           Offer1   \n",
       "\n",
       "  sales_channel  vehicle_class vehicle_size  number_of_open_complaints  \\\n",
       "0         Agent   Two-Door Car      Medsize                          0   \n",
       "1         Agent  Four-Door Car      Medsize                          0   \n",
       "2         Agent   Two-Door Car      Medsize                          0   \n",
       "3   Call Center            SUV      Medsize                          0   \n",
       "4         Agent  Four-Door Car      Medsize                          0   \n",
       "\n",
       "   number_of_policies  \n",
       "0                   1  \n",
       "1                   8  \n",
       "2                   2  \n",
       "3                   7  \n",
       "4                   1  "
      ]
     },
     "execution_count": 24,
     "metadata": {},
     "output_type": "execute_result"
    }
   ],
   "source": [
    "categorical_features = pd.concat([cat, discrete_df], axis=1)\n",
    "categorical_features.head()"
   ]
  },
  {
   "cell_type": "markdown",
   "id": "55f1c30d",
   "metadata": {},
   "source": [
    "## Start of Lab | Data cleaning and wrangling"
   ]
  },
  {
   "cell_type": "code",
   "execution_count": 25,
   "id": "811887a0",
   "metadata": {},
   "outputs": [],
   "source": [
    "# remove outliers\n",
    "# I already removed the outliers in the previous lab using a function\n",
    "#first I checked how many outliers there were and after identifying that there are quite a lot I decided to log transform\n",
    "# I copied and pasted the function I used below\n",
    "\n",
    "def log_transform(x):\n",
    "    if np.isfinite(x) and x!=0:\n",
    "        return np.log(x)\n",
    "    else:\n",
    "        return np.NAN"
   ]
  },
  {
   "cell_type": "code",
   "execution_count": 26,
   "id": "86b8d48c",
   "metadata": {},
   "outputs": [
    {
     "data": {
      "text/html": [
       "<div>\n",
       "<style scoped>\n",
       "    .dataframe tbody tr th:only-of-type {\n",
       "        vertical-align: middle;\n",
       "    }\n",
       "\n",
       "    .dataframe tbody tr th {\n",
       "        vertical-align: top;\n",
       "    }\n",
       "\n",
       "    .dataframe thead th {\n",
       "        text-align: right;\n",
       "    }\n",
       "</style>\n",
       "<table border=\"1\" class=\"dataframe\">\n",
       "  <thead>\n",
       "    <tr style=\"text-align: right;\">\n",
       "      <th></th>\n",
       "      <th>state</th>\n",
       "      <th>response</th>\n",
       "      <th>coverage</th>\n",
       "      <th>education</th>\n",
       "      <th>employmentstatus</th>\n",
       "      <th>gender</th>\n",
       "      <th>location_code</th>\n",
       "      <th>marital_status</th>\n",
       "      <th>policy_type</th>\n",
       "      <th>policy</th>\n",
       "      <th>...</th>\n",
       "      <th>vehicle_size</th>\n",
       "      <th>number_of_open_complaints</th>\n",
       "      <th>number_of_policies</th>\n",
       "      <th>customer_lifetime_value</th>\n",
       "      <th>income</th>\n",
       "      <th>monthly_premium_auto</th>\n",
       "      <th>months_since_last_claim</th>\n",
       "      <th>months_since_policy_inception</th>\n",
       "      <th>total_claim_amount</th>\n",
       "      <th>effective_to_date</th>\n",
       "    </tr>\n",
       "  </thead>\n",
       "  <tbody>\n",
       "    <tr>\n",
       "      <th>0</th>\n",
       "      <td>Other</td>\n",
       "      <td>No</td>\n",
       "      <td>Basic</td>\n",
       "      <td>Bachelor</td>\n",
       "      <td>Employed</td>\n",
       "      <td>F</td>\n",
       "      <td>Suburban</td>\n",
       "      <td>Married</td>\n",
       "      <td>Corporate Auto</td>\n",
       "      <td>Corporate</td>\n",
       "      <td>...</td>\n",
       "      <td>Medsize</td>\n",
       "      <td>0</td>\n",
       "      <td>1</td>\n",
       "      <td>7.924260</td>\n",
       "      <td>10.937988</td>\n",
       "      <td>4.234107</td>\n",
       "      <td>3.465736</td>\n",
       "      <td>1.609438</td>\n",
       "      <td>384.811147</td>\n",
       "      <td>2011-02-24</td>\n",
       "    </tr>\n",
       "    <tr>\n",
       "      <th>1</th>\n",
       "      <td>Arizona</td>\n",
       "      <td>No</td>\n",
       "      <td>Extended</td>\n",
       "      <td>Bachelor</td>\n",
       "      <td>Unemployed</td>\n",
       "      <td>F</td>\n",
       "      <td>Suburban</td>\n",
       "      <td>Single</td>\n",
       "      <td>Personal Auto</td>\n",
       "      <td>Personal</td>\n",
       "      <td>...</td>\n",
       "      <td>Medsize</td>\n",
       "      <td>0</td>\n",
       "      <td>8</td>\n",
       "      <td>8.850738</td>\n",
       "      <td>10.694229</td>\n",
       "      <td>4.543295</td>\n",
       "      <td>2.564949</td>\n",
       "      <td>3.737670</td>\n",
       "      <td>1131.464935</td>\n",
       "      <td>2011-01-31</td>\n",
       "    </tr>\n",
       "    <tr>\n",
       "      <th>2</th>\n",
       "      <td>Other</td>\n",
       "      <td>No</td>\n",
       "      <td>Premium</td>\n",
       "      <td>Bachelor</td>\n",
       "      <td>Employed</td>\n",
       "      <td>F</td>\n",
       "      <td>Suburban</td>\n",
       "      <td>Married</td>\n",
       "      <td>Personal Auto</td>\n",
       "      <td>Personal</td>\n",
       "      <td>...</td>\n",
       "      <td>Medsize</td>\n",
       "      <td>0</td>\n",
       "      <td>2</td>\n",
       "      <td>9.464008</td>\n",
       "      <td>10.794809</td>\n",
       "      <td>4.682131</td>\n",
       "      <td>2.890372</td>\n",
       "      <td>3.637586</td>\n",
       "      <td>566.472247</td>\n",
       "      <td>2011-02-19</td>\n",
       "    </tr>\n",
       "    <tr>\n",
       "      <th>3</th>\n",
       "      <td>California</td>\n",
       "      <td>No</td>\n",
       "      <td>Basic</td>\n",
       "      <td>Bachelor</td>\n",
       "      <td>Unemployed</td>\n",
       "      <td>M</td>\n",
       "      <td>Suburban</td>\n",
       "      <td>Married</td>\n",
       "      <td>Corporate Auto</td>\n",
       "      <td>Corporate</td>\n",
       "      <td>...</td>\n",
       "      <td>Medsize</td>\n",
       "      <td>0</td>\n",
       "      <td>7</td>\n",
       "      <td>8.941920</td>\n",
       "      <td>10.694229</td>\n",
       "      <td>4.663439</td>\n",
       "      <td>2.890372</td>\n",
       "      <td>4.174387</td>\n",
       "      <td>529.881344</td>\n",
       "      <td>2011-01-20</td>\n",
       "    </tr>\n",
       "    <tr>\n",
       "      <th>4</th>\n",
       "      <td>Other</td>\n",
       "      <td>No</td>\n",
       "      <td>Basic</td>\n",
       "      <td>Bachelor</td>\n",
       "      <td>Employed</td>\n",
       "      <td>M</td>\n",
       "      <td>Rural</td>\n",
       "      <td>Single</td>\n",
       "      <td>Personal Auto</td>\n",
       "      <td>Personal</td>\n",
       "      <td>...</td>\n",
       "      <td>Medsize</td>\n",
       "      <td>0</td>\n",
       "      <td>1</td>\n",
       "      <td>7.942253</td>\n",
       "      <td>10.688211</td>\n",
       "      <td>4.290459</td>\n",
       "      <td>2.484907</td>\n",
       "      <td>3.784190</td>\n",
       "      <td>138.130879</td>\n",
       "      <td>2011-02-03</td>\n",
       "    </tr>\n",
       "  </tbody>\n",
       "</table>\n",
       "<p>5 rows × 23 columns</p>\n",
       "</div>"
      ],
      "text/plain": [
       "        state response  coverage education employmentstatus gender  \\\n",
       "0       Other       No     Basic  Bachelor         Employed      F   \n",
       "1     Arizona       No  Extended  Bachelor       Unemployed      F   \n",
       "2       Other       No   Premium  Bachelor         Employed      F   \n",
       "3  California       No     Basic  Bachelor       Unemployed      M   \n",
       "4       Other       No     Basic  Bachelor         Employed      M   \n",
       "\n",
       "  location_code marital_status     policy_type     policy  ... vehicle_size  \\\n",
       "0      Suburban        Married  Corporate Auto  Corporate  ...      Medsize   \n",
       "1      Suburban         Single   Personal Auto   Personal  ...      Medsize   \n",
       "2      Suburban        Married   Personal Auto   Personal  ...      Medsize   \n",
       "3      Suburban        Married  Corporate Auto  Corporate  ...      Medsize   \n",
       "4         Rural         Single   Personal Auto   Personal  ...      Medsize   \n",
       "\n",
       "  number_of_open_complaints number_of_policies customer_lifetime_value  \\\n",
       "0                         0                  1                7.924260   \n",
       "1                         0                  8                8.850738   \n",
       "2                         0                  2                9.464008   \n",
       "3                         0                  7                8.941920   \n",
       "4                         0                  1                7.942253   \n",
       "\n",
       "      income  monthly_premium_auto  months_since_last_claim  \\\n",
       "0  10.937988              4.234107                 3.465736   \n",
       "1  10.694229              4.543295                 2.564949   \n",
       "2  10.794809              4.682131                 2.890372   \n",
       "3  10.694229              4.663439                 2.890372   \n",
       "4  10.688211              4.290459                 2.484907   \n",
       "\n",
       "   months_since_policy_inception  total_claim_amount  effective_to_date  \n",
       "0                       1.609438          384.811147         2011-02-24  \n",
       "1                       3.737670         1131.464935         2011-01-31  \n",
       "2                       3.637586          566.472247         2011-02-19  \n",
       "3                       4.174387          529.881344         2011-01-20  \n",
       "4                       3.784190          138.130879         2011-02-03  \n",
       "\n",
       "[5 rows x 23 columns]"
      ]
     },
     "execution_count": 26,
     "metadata": {},
     "output_type": "execute_result"
    }
   ],
   "source": [
    "#make a copy of the data frame for wrangling\n",
    "# first concatonating the categorical features back with the continious features\n",
    "customer_df2 = pd.concat([categorical_features, continuous_df,customer_df['effective_to_date']], axis=1)\n",
    "customer_copy = customer_df2.copy()\n",
    "customer_copy = customer_copy.drop(['customer'],axis=1) #dropping this column for now as we don't need it for analysis purposes\n",
    "customer_copy.head()"
   ]
  },
  {
   "cell_type": "code",
   "execution_count": 27,
   "id": "2d5bc8b8",
   "metadata": {},
   "outputs": [
    {
     "data": {
      "text/html": [
       "<div>\n",
       "<style scoped>\n",
       "    .dataframe tbody tr th:only-of-type {\n",
       "        vertical-align: middle;\n",
       "    }\n",
       "\n",
       "    .dataframe tbody tr th {\n",
       "        vertical-align: top;\n",
       "    }\n",
       "\n",
       "    .dataframe thead th {\n",
       "        text-align: right;\n",
       "    }\n",
       "</style>\n",
       "<table border=\"1\" class=\"dataframe\">\n",
       "  <thead>\n",
       "    <tr style=\"text-align: right;\">\n",
       "      <th></th>\n",
       "      <th>customer_lifetime_value</th>\n",
       "      <th>income</th>\n",
       "      <th>monthly_premium_auto</th>\n",
       "      <th>months_since_last_claim</th>\n",
       "      <th>months_since_policy_inception</th>\n",
       "    </tr>\n",
       "  </thead>\n",
       "  <tbody>\n",
       "    <tr>\n",
       "      <th>0</th>\n",
       "      <td>7.924260</td>\n",
       "      <td>10.937988</td>\n",
       "      <td>4.234107</td>\n",
       "      <td>3.465736</td>\n",
       "      <td>1.609438</td>\n",
       "    </tr>\n",
       "    <tr>\n",
       "      <th>1</th>\n",
       "      <td>8.850738</td>\n",
       "      <td>10.694229</td>\n",
       "      <td>4.543295</td>\n",
       "      <td>2.564949</td>\n",
       "      <td>3.737670</td>\n",
       "    </tr>\n",
       "    <tr>\n",
       "      <th>2</th>\n",
       "      <td>9.464008</td>\n",
       "      <td>10.794809</td>\n",
       "      <td>4.682131</td>\n",
       "      <td>2.890372</td>\n",
       "      <td>3.637586</td>\n",
       "    </tr>\n",
       "    <tr>\n",
       "      <th>3</th>\n",
       "      <td>8.941920</td>\n",
       "      <td>10.694229</td>\n",
       "      <td>4.663439</td>\n",
       "      <td>2.890372</td>\n",
       "      <td>4.174387</td>\n",
       "    </tr>\n",
       "    <tr>\n",
       "      <th>4</th>\n",
       "      <td>7.942253</td>\n",
       "      <td>10.688211</td>\n",
       "      <td>4.290459</td>\n",
       "      <td>2.484907</td>\n",
       "      <td>3.784190</td>\n",
       "    </tr>\n",
       "  </tbody>\n",
       "</table>\n",
       "</div>"
      ],
      "text/plain": [
       "   customer_lifetime_value     income  monthly_premium_auto  \\\n",
       "0                 7.924260  10.937988              4.234107   \n",
       "1                 8.850738  10.694229              4.543295   \n",
       "2                 9.464008  10.794809              4.682131   \n",
       "3                 8.941920  10.694229              4.663439   \n",
       "4                 7.942253  10.688211              4.290459   \n",
       "\n",
       "   months_since_last_claim  months_since_policy_inception  \n",
       "0                 3.465736                       1.609438  \n",
       "1                 2.564949                       3.737670  \n",
       "2                 2.890372                       3.637586  \n",
       "3                 2.890372                       4.174387  \n",
       "4                 2.484907                       3.784190  "
      ]
     },
     "execution_count": 27,
     "metadata": {},
     "output_type": "execute_result"
    }
   ],
   "source": [
    "# normalize the continuous columns\n",
    "y = customer_copy['total_claim_amount']\n",
    "X = customer_copy.drop(['total_claim_amount'],axis=1)\n",
    "continuous_copy = customer_copy[['customer_lifetime_value','income','monthly_premium_auto','months_since_last_claim','months_since_policy_inception']]\n",
    "continuous_copy.head()"
   ]
  },
  {
   "cell_type": "code",
   "execution_count": 28,
   "id": "3aeea2a5",
   "metadata": {},
   "outputs": [
    {
     "data": {
      "text/html": [
       "<div>\n",
       "<style scoped>\n",
       "    .dataframe tbody tr th:only-of-type {\n",
       "        vertical-align: middle;\n",
       "    }\n",
       "\n",
       "    .dataframe tbody tr th {\n",
       "        vertical-align: top;\n",
       "    }\n",
       "\n",
       "    .dataframe thead th {\n",
       "        text-align: right;\n",
       "    }\n",
       "</style>\n",
       "<table border=\"1\" class=\"dataframe\">\n",
       "  <thead>\n",
       "    <tr style=\"text-align: right;\">\n",
       "      <th></th>\n",
       "      <th>customer_lifetime_value</th>\n",
       "      <th>income</th>\n",
       "      <th>monthly_premium_auto</th>\n",
       "      <th>months_since_last_claim</th>\n",
       "      <th>months_since_policy_inception</th>\n",
       "    </tr>\n",
       "  </thead>\n",
       "  <tbody>\n",
       "    <tr>\n",
       "      <th>0</th>\n",
       "      <td>0.099340</td>\n",
       "      <td>0.749969</td>\n",
       "      <td>0.077690</td>\n",
       "      <td>0.974795</td>\n",
       "      <td>0.350249</td>\n",
       "    </tr>\n",
       "    <tr>\n",
       "      <th>1</th>\n",
       "      <td>0.344314</td>\n",
       "      <td>0.643927</td>\n",
       "      <td>0.272611</td>\n",
       "      <td>0.721434</td>\n",
       "      <td>0.813400</td>\n",
       "    </tr>\n",
       "    <tr>\n",
       "      <th>2</th>\n",
       "      <td>0.506471</td>\n",
       "      <td>0.687682</td>\n",
       "      <td>0.360138</td>\n",
       "      <td>0.812964</td>\n",
       "      <td>0.791619</td>\n",
       "    </tr>\n",
       "    <tr>\n",
       "      <th>3</th>\n",
       "      <td>0.368424</td>\n",
       "      <td>0.643927</td>\n",
       "      <td>0.348354</td>\n",
       "      <td>0.812964</td>\n",
       "      <td>0.908439</td>\n",
       "    </tr>\n",
       "    <tr>\n",
       "      <th>4</th>\n",
       "      <td>0.104098</td>\n",
       "      <td>0.641309</td>\n",
       "      <td>0.113216</td>\n",
       "      <td>0.698921</td>\n",
       "      <td>0.823524</td>\n",
       "    </tr>\n",
       "  </tbody>\n",
       "</table>\n",
       "</div>"
      ],
      "text/plain": [
       "   customer_lifetime_value    income  monthly_premium_auto  \\\n",
       "0                 0.099340  0.749969              0.077690   \n",
       "1                 0.344314  0.643927              0.272611   \n",
       "2                 0.506471  0.687682              0.360138   \n",
       "3                 0.368424  0.643927              0.348354   \n",
       "4                 0.104098  0.641309              0.113216   \n",
       "\n",
       "   months_since_last_claim  months_since_policy_inception  \n",
       "0                 0.974795                       0.350249  \n",
       "1                 0.721434                       0.813400  \n",
       "2                 0.812964                       0.791619  \n",
       "3                 0.812964                       0.908439  \n",
       "4                 0.698921                       0.823524  "
      ]
     },
     "execution_count": 28,
     "metadata": {},
     "output_type": "execute_result"
    }
   ],
   "source": [
    "# normalize the continuous columns\n",
    "from sklearn.preprocessing import MinMaxScaler\n",
    "\n",
    "transformer = MinMaxScaler().fit(continuous_copy)\n",
    "normalized = transformer.transform(continuous_copy)\n",
    "normalized = pd.DataFrame(normalized,columns=continuous_copy.columns)\n",
    "normalized.head()"
   ]
  },
  {
   "cell_type": "code",
   "execution_count": 29,
   "id": "0b2b8ead",
   "metadata": {},
   "outputs": [],
   "source": [
    "# Encode the categorical columns\n",
    "#first splitting out the columns that need One hot and the ones that need ordinal\n",
    "categorical_copy = categorical_features.copy()\n",
    "one_hot = categorical_copy[['state','marital_status','policy','renew_offer_type','sales_channel','vehicle_class']]\n",
    "ordinal = categorical_copy[['coverage','employmentstatus','location_code','vehicle_size']]\n"
   ]
  },
  {
   "cell_type": "code",
   "execution_count": 30,
   "id": "7e9ed9d2",
   "metadata": {},
   "outputs": [
    {
     "data": {
      "text/html": [
       "<div>\n",
       "<style scoped>\n",
       "    .dataframe tbody tr th:only-of-type {\n",
       "        vertical-align: middle;\n",
       "    }\n",
       "\n",
       "    .dataframe tbody tr th {\n",
       "        vertical-align: top;\n",
       "    }\n",
       "\n",
       "    .dataframe thead th {\n",
       "        text-align: right;\n",
       "    }\n",
       "</style>\n",
       "<table border=\"1\" class=\"dataframe\">\n",
       "  <thead>\n",
       "    <tr style=\"text-align: right;\">\n",
       "      <th></th>\n",
       "      <th>California</th>\n",
       "      <th>Oregon</th>\n",
       "      <th>Other</th>\n",
       "      <th>Married</th>\n",
       "      <th>Single</th>\n",
       "      <th>Personal</th>\n",
       "      <th>Special</th>\n",
       "      <th>Offer2</th>\n",
       "      <th>Offer3</th>\n",
       "      <th>Offer4</th>\n",
       "      <th>Branch</th>\n",
       "      <th>Call Center</th>\n",
       "      <th>Web</th>\n",
       "      <th>Other</th>\n",
       "      <th>SUV</th>\n",
       "      <th>Two-Door Car</th>\n",
       "    </tr>\n",
       "  </thead>\n",
       "  <tbody>\n",
       "    <tr>\n",
       "      <th>0</th>\n",
       "      <td>0.0</td>\n",
       "      <td>0.0</td>\n",
       "      <td>1.0</td>\n",
       "      <td>1.0</td>\n",
       "      <td>0.0</td>\n",
       "      <td>0.0</td>\n",
       "      <td>0.0</td>\n",
       "      <td>0.0</td>\n",
       "      <td>0.0</td>\n",
       "      <td>0.0</td>\n",
       "      <td>0.0</td>\n",
       "      <td>0.0</td>\n",
       "      <td>0.0</td>\n",
       "      <td>0.0</td>\n",
       "      <td>0.0</td>\n",
       "      <td>1.0</td>\n",
       "    </tr>\n",
       "    <tr>\n",
       "      <th>1</th>\n",
       "      <td>0.0</td>\n",
       "      <td>0.0</td>\n",
       "      <td>0.0</td>\n",
       "      <td>0.0</td>\n",
       "      <td>1.0</td>\n",
       "      <td>1.0</td>\n",
       "      <td>0.0</td>\n",
       "      <td>0.0</td>\n",
       "      <td>1.0</td>\n",
       "      <td>0.0</td>\n",
       "      <td>0.0</td>\n",
       "      <td>0.0</td>\n",
       "      <td>0.0</td>\n",
       "      <td>0.0</td>\n",
       "      <td>0.0</td>\n",
       "      <td>0.0</td>\n",
       "    </tr>\n",
       "    <tr>\n",
       "      <th>2</th>\n",
       "      <td>0.0</td>\n",
       "      <td>0.0</td>\n",
       "      <td>1.0</td>\n",
       "      <td>1.0</td>\n",
       "      <td>0.0</td>\n",
       "      <td>1.0</td>\n",
       "      <td>0.0</td>\n",
       "      <td>0.0</td>\n",
       "      <td>0.0</td>\n",
       "      <td>0.0</td>\n",
       "      <td>0.0</td>\n",
       "      <td>0.0</td>\n",
       "      <td>0.0</td>\n",
       "      <td>0.0</td>\n",
       "      <td>0.0</td>\n",
       "      <td>1.0</td>\n",
       "    </tr>\n",
       "    <tr>\n",
       "      <th>3</th>\n",
       "      <td>1.0</td>\n",
       "      <td>0.0</td>\n",
       "      <td>0.0</td>\n",
       "      <td>1.0</td>\n",
       "      <td>0.0</td>\n",
       "      <td>0.0</td>\n",
       "      <td>0.0</td>\n",
       "      <td>0.0</td>\n",
       "      <td>0.0</td>\n",
       "      <td>0.0</td>\n",
       "      <td>0.0</td>\n",
       "      <td>1.0</td>\n",
       "      <td>0.0</td>\n",
       "      <td>0.0</td>\n",
       "      <td>1.0</td>\n",
       "      <td>0.0</td>\n",
       "    </tr>\n",
       "    <tr>\n",
       "      <th>4</th>\n",
       "      <td>0.0</td>\n",
       "      <td>0.0</td>\n",
       "      <td>1.0</td>\n",
       "      <td>0.0</td>\n",
       "      <td>1.0</td>\n",
       "      <td>1.0</td>\n",
       "      <td>0.0</td>\n",
       "      <td>0.0</td>\n",
       "      <td>0.0</td>\n",
       "      <td>0.0</td>\n",
       "      <td>0.0</td>\n",
       "      <td>0.0</td>\n",
       "      <td>0.0</td>\n",
       "      <td>0.0</td>\n",
       "      <td>0.0</td>\n",
       "      <td>0.0</td>\n",
       "    </tr>\n",
       "  </tbody>\n",
       "</table>\n",
       "</div>"
      ],
      "text/plain": [
       "   California  Oregon  Other  Married  Single  Personal  Special  Offer2  \\\n",
       "0         0.0     0.0    1.0      1.0     0.0       0.0      0.0     0.0   \n",
       "1         0.0     0.0    0.0      0.0     1.0       1.0      0.0     0.0   \n",
       "2         0.0     0.0    1.0      1.0     0.0       1.0      0.0     0.0   \n",
       "3         1.0     0.0    0.0      1.0     0.0       0.0      0.0     0.0   \n",
       "4         0.0     0.0    1.0      0.0     1.0       1.0      0.0     0.0   \n",
       "\n",
       "   Offer3  Offer4  Branch  Call Center  Web  Other  SUV  Two-Door Car  \n",
       "0     0.0     0.0     0.0          0.0  0.0    0.0  0.0           1.0  \n",
       "1     1.0     0.0     0.0          0.0  0.0    0.0  0.0           0.0  \n",
       "2     0.0     0.0     0.0          0.0  0.0    0.0  0.0           1.0  \n",
       "3     0.0     0.0     0.0          1.0  0.0    0.0  1.0           0.0  \n",
       "4     0.0     0.0     0.0          0.0  0.0    0.0  0.0           0.0  "
      ]
     },
     "execution_count": 30,
     "metadata": {},
     "output_type": "execute_result"
    }
   ],
   "source": [
    "#One hot encoding first\n",
    "from sklearn.preprocessing import OneHotEncoder\n",
    "\n",
    "encoder = OneHotEncoder().fit(one_hot)\n",
    "encoded_onehot = encoder.transform(one_hot).toarray()\n",
    "\n",
    "encoded_columns = list()\n",
    "dropped_columns = list()\n",
    "\n",
    "for columns in encoder.categories_:\n",
    "    condition = True\n",
    "    for column in columns.tolist():\n",
    "        if condition:\n",
    "            dropped_columns.append(column)\n",
    "            encoded_columns.append(column)\n",
    "            condition = False\n",
    "        else:\n",
    "            encoded_columns.append(column)\n",
    "\n",
    "onehot_encoded = pd.DataFrame(data = encoded_onehot, columns=encoded_columns)\n",
    "onehot_encoded = onehot_encoded.drop(columns = dropped_columns)\n",
    "\n",
    "onehot_encoded.head()"
   ]
  },
  {
   "cell_type": "code",
   "execution_count": 31,
   "id": "52dd8b41",
   "metadata": {},
   "outputs": [
    {
     "data": {
      "text/plain": [
       "Suburban    5779\n",
       "Rural       1773\n",
       "Urban       1582\n",
       "Name: location_code, dtype: int64"
      ]
     },
     "execution_count": 31,
     "metadata": {},
     "output_type": "execute_result"
    }
   ],
   "source": [
    "#Then ordinal Coding\n",
    "ordinal['coverage'].value_counts()\n",
    "ordinal['employmentstatus'].value_counts()\n",
    "ordinal['location_code'].value_counts()\n",
    "#ordinal['vehicle_size'].value_counts()"
   ]
  },
  {
   "cell_type": "code",
   "execution_count": 32,
   "id": "76248a76",
   "metadata": {},
   "outputs": [
    {
     "name": "stderr",
     "output_type": "stream",
     "text": [
      "/var/folders/ds/zk5fgzhx7b53nll390cs5phh0000gn/T/ipykernel_14463/793742586.py:2: SettingWithCopyWarning: \n",
      "A value is trying to be set on a copy of a slice from a DataFrame.\n",
      "Try using .loc[row_indexer,col_indexer] = value instead\n",
      "\n",
      "See the caveats in the documentation: https://pandas.pydata.org/pandas-docs/stable/user_guide/indexing.html#returning-a-view-versus-a-copy\n",
      "  ordinal['coverage'] = ordinal['coverage'].map({'Basic' : 0, 'Extended' : 1, 'Premium' : 2})\n",
      "/var/folders/ds/zk5fgzhx7b53nll390cs5phh0000gn/T/ipykernel_14463/793742586.py:3: SettingWithCopyWarning: \n",
      "A value is trying to be set on a copy of a slice from a DataFrame.\n",
      "Try using .loc[row_indexer,col_indexer] = value instead\n",
      "\n",
      "See the caveats in the documentation: https://pandas.pydata.org/pandas-docs/stable/user_guide/indexing.html#returning-a-view-versus-a-copy\n",
      "  ordinal['employmentstatus'] = ordinal['employmentstatus'].map({'Other' : 0, 'Unemployed' : 1, 'Employed' : 2})\n",
      "/var/folders/ds/zk5fgzhx7b53nll390cs5phh0000gn/T/ipykernel_14463/793742586.py:4: SettingWithCopyWarning: \n",
      "A value is trying to be set on a copy of a slice from a DataFrame.\n",
      "Try using .loc[row_indexer,col_indexer] = value instead\n",
      "\n",
      "See the caveats in the documentation: https://pandas.pydata.org/pandas-docs/stable/user_guide/indexing.html#returning-a-view-versus-a-copy\n",
      "  ordinal['location_code'] = ordinal['location_code'].map({'Rural' : 0, 'Suburban' : 1, 'Urban' : 2})\n",
      "/var/folders/ds/zk5fgzhx7b53nll390cs5phh0000gn/T/ipykernel_14463/793742586.py:5: SettingWithCopyWarning: \n",
      "A value is trying to be set on a copy of a slice from a DataFrame.\n",
      "Try using .loc[row_indexer,col_indexer] = value instead\n",
      "\n",
      "See the caveats in the documentation: https://pandas.pydata.org/pandas-docs/stable/user_guide/indexing.html#returning-a-view-versus-a-copy\n",
      "  ordinal['vehicle_size'] = ordinal['vehicle_size'].map({'Small' : 0, 'Medsize' : 1, 'Large' : 2})\n"
     ]
    },
    {
     "data": {
      "text/html": [
       "<div>\n",
       "<style scoped>\n",
       "    .dataframe tbody tr th:only-of-type {\n",
       "        vertical-align: middle;\n",
       "    }\n",
       "\n",
       "    .dataframe tbody tr th {\n",
       "        vertical-align: top;\n",
       "    }\n",
       "\n",
       "    .dataframe thead th {\n",
       "        text-align: right;\n",
       "    }\n",
       "</style>\n",
       "<table border=\"1\" class=\"dataframe\">\n",
       "  <thead>\n",
       "    <tr style=\"text-align: right;\">\n",
       "      <th></th>\n",
       "      <th>coverage</th>\n",
       "      <th>employmentstatus</th>\n",
       "      <th>location_code</th>\n",
       "      <th>vehicle_size</th>\n",
       "    </tr>\n",
       "  </thead>\n",
       "  <tbody>\n",
       "    <tr>\n",
       "      <th>0</th>\n",
       "      <td>0</td>\n",
       "      <td>2</td>\n",
       "      <td>1</td>\n",
       "      <td>1</td>\n",
       "    </tr>\n",
       "    <tr>\n",
       "      <th>1</th>\n",
       "      <td>1</td>\n",
       "      <td>1</td>\n",
       "      <td>1</td>\n",
       "      <td>1</td>\n",
       "    </tr>\n",
       "    <tr>\n",
       "      <th>2</th>\n",
       "      <td>2</td>\n",
       "      <td>2</td>\n",
       "      <td>1</td>\n",
       "      <td>1</td>\n",
       "    </tr>\n",
       "    <tr>\n",
       "      <th>3</th>\n",
       "      <td>0</td>\n",
       "      <td>1</td>\n",
       "      <td>1</td>\n",
       "      <td>1</td>\n",
       "    </tr>\n",
       "    <tr>\n",
       "      <th>4</th>\n",
       "      <td>0</td>\n",
       "      <td>2</td>\n",
       "      <td>0</td>\n",
       "      <td>1</td>\n",
       "    </tr>\n",
       "  </tbody>\n",
       "</table>\n",
       "</div>"
      ],
      "text/plain": [
       "   coverage  employmentstatus  location_code  vehicle_size\n",
       "0         0                 2              1             1\n",
       "1         1                 1              1             1\n",
       "2         2                 2              1             1\n",
       "3         0                 1              1             1\n",
       "4         0                 2              0             1"
      ]
     },
     "execution_count": 32,
     "metadata": {},
     "output_type": "execute_result"
    }
   ],
   "source": [
    "# Then Ordinal Coding\n",
    "ordinal['coverage'] = ordinal['coverage'].map({'Basic' : 0, 'Extended' : 1, 'Premium' : 2})\n",
    "ordinal['employmentstatus'] = ordinal['employmentstatus'].map({'Other' : 0, 'Unemployed' : 1, 'Employed' : 2})\n",
    "ordinal['location_code'] = ordinal['location_code'].map({'Rural' : 0, 'Suburban' : 1, 'Urban' : 2})\n",
    "ordinal['vehicle_size'] = ordinal['vehicle_size'].map({'Small' : 0, 'Medsize' : 1, 'Large' : 2})\n",
    "ordinal.head()"
   ]
  },
  {
   "cell_type": "code",
   "execution_count": 33,
   "id": "87f97c76",
   "metadata": {},
   "outputs": [],
   "source": [
    "customer_copy['day'] = customer_copy['effective_to_date'].dt.dayofweek\n",
    "customer_copy['month'] = customer_copy['effective_to_date'].dt.month\n",
    "#customer_copy['day'] = customer_copy['day'].strftime(\"%Y\")"
   ]
  },
  {
   "cell_type": "code",
   "execution_count": 34,
   "id": "4f4f374e",
   "metadata": {},
   "outputs": [
    {
     "data": {
      "text/html": [
       "<div>\n",
       "<style scoped>\n",
       "    .dataframe tbody tr th:only-of-type {\n",
       "        vertical-align: middle;\n",
       "    }\n",
       "\n",
       "    .dataframe tbody tr th {\n",
       "        vertical-align: top;\n",
       "    }\n",
       "\n",
       "    .dataframe thead th {\n",
       "        text-align: right;\n",
       "    }\n",
       "</style>\n",
       "<table border=\"1\" class=\"dataframe\">\n",
       "  <thead>\n",
       "    <tr style=\"text-align: right;\">\n",
       "      <th></th>\n",
       "      <th>coverage</th>\n",
       "      <th>employmentstatus</th>\n",
       "      <th>location_code</th>\n",
       "      <th>vehicle_size</th>\n",
       "      <th>California</th>\n",
       "      <th>Oregon</th>\n",
       "      <th>Other</th>\n",
       "      <th>Married</th>\n",
       "      <th>Single</th>\n",
       "      <th>Personal</th>\n",
       "      <th>...</th>\n",
       "      <th>Two-Door Car</th>\n",
       "      <th>customer_lifetime_value</th>\n",
       "      <th>income</th>\n",
       "      <th>monthly_premium_auto</th>\n",
       "      <th>months_since_last_claim</th>\n",
       "      <th>months_since_policy_inception</th>\n",
       "      <th>number_of_open_complaints</th>\n",
       "      <th>number_of_policies</th>\n",
       "      <th>day</th>\n",
       "      <th>month</th>\n",
       "    </tr>\n",
       "  </thead>\n",
       "  <tbody>\n",
       "    <tr>\n",
       "      <th>0</th>\n",
       "      <td>0</td>\n",
       "      <td>2</td>\n",
       "      <td>1</td>\n",
       "      <td>1</td>\n",
       "      <td>0.0</td>\n",
       "      <td>0.0</td>\n",
       "      <td>1.0</td>\n",
       "      <td>1.0</td>\n",
       "      <td>0.0</td>\n",
       "      <td>0.0</td>\n",
       "      <td>...</td>\n",
       "      <td>1.0</td>\n",
       "      <td>0.099340</td>\n",
       "      <td>0.749969</td>\n",
       "      <td>0.077690</td>\n",
       "      <td>0.974795</td>\n",
       "      <td>0.350249</td>\n",
       "      <td>0</td>\n",
       "      <td>1</td>\n",
       "      <td>3</td>\n",
       "      <td>2</td>\n",
       "    </tr>\n",
       "    <tr>\n",
       "      <th>1</th>\n",
       "      <td>1</td>\n",
       "      <td>1</td>\n",
       "      <td>1</td>\n",
       "      <td>1</td>\n",
       "      <td>0.0</td>\n",
       "      <td>0.0</td>\n",
       "      <td>0.0</td>\n",
       "      <td>0.0</td>\n",
       "      <td>1.0</td>\n",
       "      <td>1.0</td>\n",
       "      <td>...</td>\n",
       "      <td>0.0</td>\n",
       "      <td>0.344314</td>\n",
       "      <td>0.643927</td>\n",
       "      <td>0.272611</td>\n",
       "      <td>0.721434</td>\n",
       "      <td>0.813400</td>\n",
       "      <td>0</td>\n",
       "      <td>8</td>\n",
       "      <td>0</td>\n",
       "      <td>1</td>\n",
       "    </tr>\n",
       "    <tr>\n",
       "      <th>2</th>\n",
       "      <td>2</td>\n",
       "      <td>2</td>\n",
       "      <td>1</td>\n",
       "      <td>1</td>\n",
       "      <td>0.0</td>\n",
       "      <td>0.0</td>\n",
       "      <td>1.0</td>\n",
       "      <td>1.0</td>\n",
       "      <td>0.0</td>\n",
       "      <td>1.0</td>\n",
       "      <td>...</td>\n",
       "      <td>1.0</td>\n",
       "      <td>0.506471</td>\n",
       "      <td>0.687682</td>\n",
       "      <td>0.360138</td>\n",
       "      <td>0.812964</td>\n",
       "      <td>0.791619</td>\n",
       "      <td>0</td>\n",
       "      <td>2</td>\n",
       "      <td>5</td>\n",
       "      <td>2</td>\n",
       "    </tr>\n",
       "    <tr>\n",
       "      <th>3</th>\n",
       "      <td>0</td>\n",
       "      <td>1</td>\n",
       "      <td>1</td>\n",
       "      <td>1</td>\n",
       "      <td>1.0</td>\n",
       "      <td>0.0</td>\n",
       "      <td>0.0</td>\n",
       "      <td>1.0</td>\n",
       "      <td>0.0</td>\n",
       "      <td>0.0</td>\n",
       "      <td>...</td>\n",
       "      <td>0.0</td>\n",
       "      <td>0.368424</td>\n",
       "      <td>0.643927</td>\n",
       "      <td>0.348354</td>\n",
       "      <td>0.812964</td>\n",
       "      <td>0.908439</td>\n",
       "      <td>0</td>\n",
       "      <td>7</td>\n",
       "      <td>3</td>\n",
       "      <td>1</td>\n",
       "    </tr>\n",
       "    <tr>\n",
       "      <th>4</th>\n",
       "      <td>0</td>\n",
       "      <td>2</td>\n",
       "      <td>0</td>\n",
       "      <td>1</td>\n",
       "      <td>0.0</td>\n",
       "      <td>0.0</td>\n",
       "      <td>1.0</td>\n",
       "      <td>0.0</td>\n",
       "      <td>1.0</td>\n",
       "      <td>1.0</td>\n",
       "      <td>...</td>\n",
       "      <td>0.0</td>\n",
       "      <td>0.104098</td>\n",
       "      <td>0.641309</td>\n",
       "      <td>0.113216</td>\n",
       "      <td>0.698921</td>\n",
       "      <td>0.823524</td>\n",
       "      <td>0</td>\n",
       "      <td>1</td>\n",
       "      <td>3</td>\n",
       "      <td>2</td>\n",
       "    </tr>\n",
       "  </tbody>\n",
       "</table>\n",
       "<p>5 rows × 29 columns</p>\n",
       "</div>"
      ],
      "text/plain": [
       "   coverage  employmentstatus  location_code  vehicle_size  California  \\\n",
       "0         0                 2              1             1         0.0   \n",
       "1         1                 1              1             1         0.0   \n",
       "2         2                 2              1             1         0.0   \n",
       "3         0                 1              1             1         1.0   \n",
       "4         0                 2              0             1         0.0   \n",
       "\n",
       "   Oregon  Other  Married  Single  Personal  ...  Two-Door Car  \\\n",
       "0     0.0    1.0      1.0     0.0       0.0  ...           1.0   \n",
       "1     0.0    0.0      0.0     1.0       1.0  ...           0.0   \n",
       "2     0.0    1.0      1.0     0.0       1.0  ...           1.0   \n",
       "3     0.0    0.0      1.0     0.0       0.0  ...           0.0   \n",
       "4     0.0    1.0      0.0     1.0       1.0  ...           0.0   \n",
       "\n",
       "   customer_lifetime_value    income  monthly_premium_auto  \\\n",
       "0                 0.099340  0.749969              0.077690   \n",
       "1                 0.344314  0.643927              0.272611   \n",
       "2                 0.506471  0.687682              0.360138   \n",
       "3                 0.368424  0.643927              0.348354   \n",
       "4                 0.104098  0.641309              0.113216   \n",
       "\n",
       "   months_since_last_claim  months_since_policy_inception  \\\n",
       "0                 0.974795                       0.350249   \n",
       "1                 0.721434                       0.813400   \n",
       "2                 0.812964                       0.791619   \n",
       "3                 0.812964                       0.908439   \n",
       "4                 0.698921                       0.823524   \n",
       "\n",
       "   number_of_open_complaints  number_of_policies  day  month  \n",
       "0                          0                   1    3      2  \n",
       "1                          0                   8    0      1  \n",
       "2                          0                   2    5      2  \n",
       "3                          0                   7    3      1  \n",
       "4                          0                   1    3      2  \n",
       "\n",
       "[5 rows x 29 columns]"
      ]
     },
     "execution_count": 34,
     "metadata": {},
     "output_type": "execute_result"
    }
   ],
   "source": [
    "#concat everything back together \n",
    "X = pd.concat([ordinal,onehot_encoded,normalized,customer_copy[['number_of_open_complaints','number_of_policies','day','month']]],axis=1)\n",
    "X.head()"
   ]
  },
  {
   "cell_type": "code",
   "execution_count": 35,
   "id": "dad5bdc8",
   "metadata": {},
   "outputs": [],
   "source": [
    "# all columns are numerical at the moment, so building the model should be possible\n",
    "#note to self: I did not normalize or encode number_of_open_complaints, number_of_policies, weekday and month\n",
    "# see how the model goes tomorrow, if the score is bad might have to go back and normalize/encode them"
   ]
  },
  {
   "cell_type": "markdown",
   "id": "a79a0e5a",
   "metadata": {},
   "source": [
    "## Start of Lab | Comparing regression models"
   ]
  },
  {
   "cell_type": "code",
   "execution_count": 36,
   "id": "2ff592ce",
   "metadata": {},
   "outputs": [],
   "source": [
    "#seperate the data with a train test split\n",
    "from sklearn.model_selection import train_test_split\n",
    "\n",
    "X_train, X_test, y_train, y_test = train_test_split(X, y, test_size=0.4, random_state=100)"
   ]
  },
  {
   "cell_type": "code",
   "execution_count": 37,
   "id": "9a5b6854",
   "metadata": {},
   "outputs": [],
   "source": [
    "#Try a linear regression\n",
    "from sklearn import linear_model\n",
    "lm = linear_model.LinearRegression()\n",
    "model= lm.fit(X_train,y_train)"
   ]
  },
  {
   "cell_type": "code",
   "execution_count": 38,
   "id": "3f95e452",
   "metadata": {},
   "outputs": [
    {
     "data": {
      "text/plain": [
       "0.5483458626874991"
      ]
     },
     "execution_count": 38,
     "metadata": {},
     "output_type": "execute_result"
    }
   ],
   "source": [
    "#We get a pretty low score on the model, only 0.48. This should be able to go higher. \n",
    "score = lm.score(X_test, y_test)\n",
    "score"
   ]
  },
  {
   "cell_type": "code",
   "execution_count": 39,
   "id": "655f641a",
   "metadata": {},
   "outputs": [],
   "source": [
    "from sklearn.neural_network import MLPRegressor\n",
    "from sklearn.neighbors import KNeighborsRegressor"
   ]
  },
  {
   "cell_type": "code",
   "execution_count": 40,
   "id": "cb6bbb15",
   "metadata": {},
   "outputs": [
    {
     "name": "stderr",
     "output_type": "stream",
     "text": [
      "/Users/joriencaron/Library/Python/3.8/lib/python/site-packages/sklearn/neural_network/_multilayer_perceptron.py:614: ConvergenceWarning: Stochastic Optimizer: Maximum iterations (1000) reached and the optimization hasn't converged yet.\n",
      "  warnings.warn(\n"
     ]
    }
   ],
   "source": [
    "def model_training(models,X_train,y_train):\n",
    "    models_train = []\n",
    "    for model in models:\n",
    "        model.fit(X_train,y_train)\n",
    "        models_train.append(model)\n",
    "    return models_train\n",
    "        \n",
    "        \n",
    "trained = model_training([MLPRegressor(max_iter=1000),linear_model.LinearRegression(),KNeighborsRegressor()],X_train,y_train)"
   ]
  },
  {
   "cell_type": "code",
   "execution_count": 41,
   "id": "416c3928",
   "metadata": {},
   "outputs": [
    {
     "name": "stdout",
     "output_type": "stream",
     "text": [
      "MLPRegressor Score: 0.8101179892002953\n",
      "LinearRegressor Score: 0.5483458626874991\n",
      "KNN Score: 0.5122406429280384\n"
     ]
    }
   ],
   "source": [
    "#scores\n",
    "score_mlp = trained[0].score(X_test, y_test)\n",
    "score_linear = trained[1].score(X_test, y_test)\n",
    "score_KNN = trained[2].score(X_test, y_test)\n",
    "\n",
    "print('MLPRegressor Score:',score_mlp)\n",
    "print('LinearRegressor Score:',score_linear)\n",
    "print('KNN Score:',score_KNN)"
   ]
  },
  {
   "cell_type": "code",
   "execution_count": 42,
   "id": "9afeb165",
   "metadata": {},
   "outputs": [],
   "source": [
    "#above shows that the MLPRegressor has the highest score for predictions. \n",
    "#The MLP regressor learns the patterns in the data and can see relationships that other models cannot see that easily\n",
    "#however this model is very prone to overfitting. This might lead to higher accuracy but to a worse model.\n",
    "#Also I did not check for the best n neighbours, so the current score can probably be improved with further research. "
   ]
  }
 ],
 "metadata": {
  "kernelspec": {
   "display_name": "Python 3 (ipykernel)",
   "language": "python",
   "name": "python3"
  },
  "language_info": {
   "codemirror_mode": {
    "name": "ipython",
    "version": 3
   },
   "file_extension": ".py",
   "mimetype": "text/x-python",
   "name": "python",
   "nbconvert_exporter": "python",
   "pygments_lexer": "ipython3",
   "version": "3.8.2"
  }
 },
 "nbformat": 4,
 "nbformat_minor": 5
}
